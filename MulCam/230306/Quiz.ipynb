{
 "cells": [
  {
   "cell_type": "markdown",
   "id": "9b111f9c-e228-4575-a194-8aa20587cc49",
   "metadata": {},
   "source": [
    "## 돌발퀴즈\n"
   ]
  },
  {
   "cell_type": "code",
   "execution_count": 13,
   "id": "2649ddc8-ae5c-49d8-afe2-866e98aaf0ea",
   "metadata": {},
   "outputs": [
    {
     "name": "stdout",
     "output_type": "stream",
     "text": [
      "[4, 8, 10]\n",
      "4\n"
     ]
    }
   ],
   "source": [
    "num = [1,3,4,8,9,10]\n",
    "def even_num(li):\n",
    "    if type(li)==list:\n",
    "        even = [x for x in li if x % 2 ==0]\n",
    "        return even\n",
    "    elif type(li)==int:\n",
    "        if li % 2 == 0:\n",
    "            return li\n",
    "        else:\n",
    "            print(\"not even\")\n",
    "    else:\n",
    "        print(\"Unavailable Parameter\")\n",
    "    \n",
    "print(even_num(num))\n",
    "print(even_num(4))\n"
   ]
  },
  {
   "cell_type": "code",
   "execution_count": 23,
   "id": "5b7657f4-eac7-4278-a581-5874c7d69a03",
   "metadata": {},
   "outputs": [
    {
     "name": "stdin",
     "output_type": "stream",
     "text": [
      "커피 얼마 어치 마실래? 4000\n"
     ]
    },
    {
     "name": "stdout",
     "output_type": "stream",
     "text": [
      "1번째 커피\n",
      "2번째 커피\n",
      "3번째 커피\n",
      "4번째 커피\n",
      "5번째 커피\n",
      "6번째 커피\n",
      "7번째 커피\n",
      "8번째 커피\n",
      "9번째 커피\n",
      "10번째 커피\n",
      "11번째 커피\n",
      "12번째 커피\n",
      "13번째 커피\n",
      "100원 잔돈이 남았습니다\n"
     ]
    }
   ],
   "source": [
    "def cof_mac():\n",
    "    # 돈\n",
    "    n = 0\n",
    "    # 커피값\n",
    "    price = 300\n",
    "    # 카운트 변수\n",
    "    count = 0\n",
    "    # validation code\n",
    "    while True:\n",
    "        try:\n",
    "            n = (input(\"커피 얼마 어치 마실래?\"))\n",
    "            n = int(n)\n",
    "        except:\n",
    "            print(\"정수형으로 입력하세요\")\n",
    "            continue\n",
    "        else:\n",
    "            break\n",
    "    #logic code\n",
    "    while True:\n",
    "        if n >= price:\n",
    "            count += 1\n",
    "            n -= price\n",
    "            print(f\"{count}번째 커피\")\n",
    "        else:\n",
    "            print(f'{n}원 잔돈이 남았습니다')\n",
    "            break\n",
    "cof_mac()"
   ]
  },
  {
   "cell_type": "code",
   "execution_count": 5,
   "id": "4292dd28-c137-4f71-ab95-e3edc954ae31",
   "metadata": {},
   "outputs": [
    {
     "data": {
      "text/plain": [
       "int"
      ]
     },
     "execution_count": 5,
     "metadata": {},
     "output_type": "execute_result"
    }
   ],
   "source": []
  },
  {
   "cell_type": "code",
   "execution_count": 24,
   "id": "e451f5de-9aa0-4971-a022-0488b24d5a7e",
   "metadata": {},
   "outputs": [
    {
     "ename": "TypeError",
     "evalue": "list.append() takes exactly one argument (2 given)",
     "output_type": "error",
     "traceback": [
      "\u001b[0;31m---------------------------------------------------------------------------\u001b[0m",
      "\u001b[0;31mTypeError\u001b[0m                                 Traceback (most recent call last)",
      "\u001b[0;32m/var/folders/m5/dnnrxj1n5g731dc5t2c_55h80000gn/T/ipykernel_73436/3249753280.py\u001b[0m in \u001b[0;36m<module>\u001b[0;34m\u001b[0m\n\u001b[1;32m      1\u001b[0m \u001b[0mli\u001b[0m \u001b[0;34m=\u001b[0m \u001b[0;34m[\u001b[0m\u001b[0;36m1\u001b[0m\u001b[0;34m,\u001b[0m\u001b[0;36m2\u001b[0m\u001b[0;34m,\u001b[0m\u001b[0;36m3\u001b[0m\u001b[0;34m,\u001b[0m\u001b[0;36m4\u001b[0m\u001b[0;34m,\u001b[0m\u001b[0;36m5\u001b[0m\u001b[0;34m]\u001b[0m\u001b[0;34m\u001b[0m\u001b[0;34m\u001b[0m\u001b[0m\n\u001b[0;32m----> 2\u001b[0;31m \u001b[0mli\u001b[0m\u001b[0;34m.\u001b[0m\u001b[0mappend\u001b[0m\u001b[0;34m(\u001b[0m\u001b[0;36m6\u001b[0m\u001b[0;34m,\u001b[0m\u001b[0;36m3\u001b[0m\u001b[0;34m)\u001b[0m\u001b[0;34m\u001b[0m\u001b[0;34m\u001b[0m\u001b[0m\n\u001b[0m",
      "\u001b[0;31mTypeError\u001b[0m: list.append() takes exactly one argument (2 given)"
     ]
    }
   ],
   "source": [
    "li = [1,2,3,4,5]\n"
   ]
  },
  {
   "cell_type": "code",
   "execution_count": 28,
   "id": "b364f575-ad74-4a5e-adc9-bed4d4f86559",
   "metadata": {},
   "outputs": [
    {
     "name": "stdout",
     "output_type": "stream",
     "text": [
      "[2, 4, 6]\n",
      "[2, 4, 6]\n",
      "[2, 4, 6]\n"
     ]
    }
   ],
   "source": [
    "a = (1,2,3)\n",
    "li = []\n",
    "# for\n",
    "for x in a:\n",
    "    li.append(2*x)\n",
    "print(li)\n",
    "\n",
    "# list comprehension\n",
    "li = [x*2 for x in a]\n",
    "print(li)\n",
    "\n",
    "# tuple unpacking\n",
    "li = []\n",
    "x,y,z = a\n",
    "li.append(2*x)\n",
    "li.append(2*y)\n",
    "li.append(2*z)\n",
    "print(li)\n"
   ]
  },
  {
   "cell_type": "code",
   "execution_count": 37,
   "id": "c5fe2329-c8ac-4c4f-b2ab-58c1eb525ba5",
   "metadata": {},
   "outputs": [
    {
     "name": "stdout",
     "output_type": "stream",
     "text": [
      "메로나의 값은 300이고 재고량은 20개 입니다\n",
      "비비빅의 값은 400이고 재고량은 3개 입니다\n",
      "죠스바의 값은 250이고 재고량은 100개 입니다\n"
     ]
    }
   ],
   "source": [
    "icecream = {'메로나':[300,20],'비비빅':[400,3],'죠스바':[250,100]}\n",
    "for item in icecream:\n",
    "    print(f'{item}의 값은 {icecream[item][0]}이고 재고량은 {icecream[item][1]}개 입니다')"
   ]
  },
  {
   "cell_type": "code",
   "execution_count": 38,
   "id": "9b644e74-0292-45ce-be67-274d6341bf85",
   "metadata": {},
   "outputs": [
    {
     "data": {
      "text/plain": [
       "7"
      ]
     },
     "execution_count": 38,
     "metadata": {},
     "output_type": "execute_result"
    }
   ],
   "source": [
    "ls = lambda x,y : x + y\n",
    "ls(3,4)"
   ]
  },
  {
   "cell_type": "code",
   "execution_count": 40,
   "id": "bf78dd85-4243-4bf5-8842-51780e10107b",
   "metadata": {},
   "outputs": [
    {
     "name": "stdout",
     "output_type": "stream",
     "text": [
      "[3, 4, 5, 6, 7, 8]\n"
     ]
    }
   ],
   "source": [
    "result2 = list(map(lambda x :x+2,[1,2,3,4,5,6]))\n",
    "print(result2)"
   ]
  },
  {
   "cell_type": "code",
   "execution_count": 43,
   "id": "4fabd9ec-076a-4cb9-80f9-4ff5229a42ea",
   "metadata": {},
   "outputs": [
    {
     "name": "stdout",
     "output_type": "stream",
     "text": [
      "1번 학생의 성적 : 88\n",
      "2번 학생의 성적 : 95\n",
      "3번 학생의 성적 : 70\n",
      "4번 학생의 성적 : 100\n",
      "5번 학생의 성적 : 99\n",
      "평균은 90.4\n"
     ]
    }
   ],
   "source": [
    "score = [88, 95, 70, 100, 99]\n",
    "sum = 0\n",
    "for no, s in enumerate(score, 1):\n",
    "    print(f\"{no}번 학생의 성적 : {s}\")\n",
    "    sum +=s\n",
    "    \n",
    "avg = sum/len(score)\n",
    "\n",
    "print(f'평균은 {avg}')"
   ]
  },
  {
   "cell_type": "code",
   "execution_count": 54,
   "id": "557eaae5-674b-4d90-a836-2480ca93e8b6",
   "metadata": {},
   "outputs": [
    {
     "name": "stdout",
     "output_type": "stream",
     "text": [
      "이 편지는 1950년 영국에서부터 시작되어..\n",
      "5\n"
     ]
    }
   ],
   "source": [
    "# 파일 열고 존재하지 않을시 생성, write모드\n",
    "f = open('prac.txt','w')\n",
    "# 파일에 작성\n",
    "f.write('이 편지는 1950년 영국에서부터 시작되어..')\n",
    "# 파일 닫기\n",
    "f.close()\n",
    "# 읽기모드로 다시열기 수정불가능, 읽기만 가능\n",
    "f = open('prac.txt','r')\n",
    "# 텍스트를 읽어옴 \n",
    "text = f.read()\n",
    "# str 타입 데이터로 변수에 할당\n",
    "print(text)\n",
    "# 파일 닫기\n",
    "f.close()\n",
    "# text 데이터내 단어 개수 세기\n",
    "text = text.split(' ')\n",
    "print(len(text))\n",
    "\n"
   ]
  },
  {
   "cell_type": "code",
   "execution_count": null,
   "id": "fc4a3988-3213-403d-b298-30dcf86863f4",
   "metadata": {},
   "outputs": [],
   "source": []
  }
 ],
 "metadata": {
  "kernelspec": {
   "display_name": "Python 3 (ipykernel)",
   "language": "python",
   "name": "python3"
  },
  "language_info": {
   "codemirror_mode": {
    "name": "ipython",
    "version": 3
   },
   "file_extension": ".py",
   "mimetype": "text/x-python",
   "name": "python",
   "nbconvert_exporter": "python",
   "pygments_lexer": "ipython3",
   "version": "3.9.13"
  }
 },
 "nbformat": 4,
 "nbformat_minor": 5
}
