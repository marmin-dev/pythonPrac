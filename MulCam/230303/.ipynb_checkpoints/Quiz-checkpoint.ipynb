{
 "cells": [
  {
   "cell_type": "markdown",
   "id": "8a10d9f2-9b90-4c67-a14e-87daac06ca63",
   "metadata": {},
   "source": [
    "## Solve MultiCampus Quiz\n"
   ]
  },
  {
   "cell_type": "code",
   "execution_count": 1,
   "id": "20f9f1d3-0d63-4767-90aa-5bfdafa0431a",
   "metadata": {},
   "outputs": [
    {
     "name": "stdout",
     "output_type": "stream",
     "text": [
      "55\n"
     ]
    }
   ],
   "source": [
    "i = 0\n",
    "result2 = 0\n",
    "while i < 10:\n",
    "    i += 1\n",
    "    result2 += i\n",
    "print(result2)"
   ]
  },
  {
   "cell_type": "markdown",
   "id": "5cc77ab1-05f5-46c4-a611-0b2ea08faef5",
   "metadata": {},
   "source": [
    "## 돌발퀴즈1"
   ]
  },
  {
   "cell_type": "code",
   "execution_count": 9,
   "id": "3a1d3983-8690-44a6-bc07-3eca4e825d24",
   "metadata": {},
   "outputs": [
    {
     "name": "stdout",
     "output_type": "stream",
     "text": [
      "2500\n",
      "2500\n"
     ]
    }
   ],
   "source": [
    "i = 0\n",
    "result2 = 0\n",
    "while i<100:\n",
    "    i += 1\n",
    "    if i % 2 != 0:\n",
    "        result2 += i\n",
    "print(result2)\n",
    "\n",
    "# 2\n",
    "i = 1\n",
    "result = 0\n",
    "while True:\n",
    "    if not i % 2 ==0:\n",
    "        result += i\n",
    "    if i == 100:\n",
    "        break\n",
    "    i += 1\n",
    "print(result)\n"
   ]
  },
  {
   "cell_type": "code",
   "execution_count": null,
   "id": "7edcbda8-285e-4a7b-ba14-cc134269f7a2",
   "metadata": {},
   "outputs": [],
   "source": []
  }
 ],
 "metadata": {
  "kernelspec": {
   "display_name": "Python 3 (ipykernel)",
   "language": "python",
   "name": "python3"
  },
  "language_info": {
   "codemirror_mode": {
    "name": "ipython",
    "version": 3
   },
   "file_extension": ".py",
   "mimetype": "text/x-python",
   "name": "python",
   "nbconvert_exporter": "python",
   "pygments_lexer": "ipython3",
   "version": "3.9.13"
  }
 },
 "nbformat": 4,
 "nbformat_minor": 5
}
