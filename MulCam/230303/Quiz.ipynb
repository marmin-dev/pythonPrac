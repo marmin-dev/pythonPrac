{
 "cells": [
  {
   "cell_type": "markdown",
   "id": "8a10d9f2-9b90-4c67-a14e-87daac06ca63",
   "metadata": {},
   "source": [
    "## Solve MultiCampus Quiz\n"
   ]
  },
  {
   "cell_type": "code",
   "execution_count": 1,
   "id": "20f9f1d3-0d63-4767-90aa-5bfdafa0431a",
   "metadata": {},
   "outputs": [
    {
     "name": "stdout",
     "output_type": "stream",
     "text": [
      "55\n"
     ]
    }
   ],
   "source": [
    "i = 0\n",
    "result2 = 0\n",
    "while i < 10:\n",
    "    i += 1\n",
    "    result2 += i\n",
    "print(result2)"
   ]
  },
  {
   "cell_type": "markdown",
   "id": "5cc77ab1-05f5-46c4-a611-0b2ea08faef5",
   "metadata": {},
   "source": [
    "## 돌발퀴즈1"
   ]
  },
  {
   "cell_type": "code",
   "execution_count": 12,
   "id": "3a1d3983-8690-44a6-bc07-3eca4e825d24",
   "metadata": {},
   "outputs": [
    {
     "name": "stdout",
     "output_type": "stream",
     "text": [
      "2500\n",
      "2500\n"
     ]
    }
   ],
   "source": [
    "i = 0\n",
    "result2 = 0\n",
    "while i<100:\n",
    "    i += 1\n",
    "    if i % 2 != 0:\n",
    "        result2 += i\n",
    "print(result2)\n",
    "\n",
    "# 2\n",
    "i = 1\n",
    "result = 0\n",
    "while True:\n",
    "    if not i % 2 ==0:\n",
    "        result += i\n",
    "    if i == 100:\n",
    "        break\n",
    "    i += 1\n",
    "print(result)\n"
   ]
  },
  {
   "cell_type": "markdown",
   "id": "56fa1321-fe47-41cb-9d81-705ccd28f28e",
   "metadata": {},
   "source": [
    "## 돌발퀴즈 2\n",
    "어떤 수를 입력받아서 입력받은 수를 그 수만큼 출력하라"
   ]
  },
  {
   "cell_type": "code",
   "execution_count": 17,
   "id": "f430af54-a114-4522-ace6-05601457a486",
   "metadata": {},
   "outputs": [
    {
     "name": "stdin",
     "output_type": "stream",
     "text": [
      "숫자 입력 rr\n"
     ]
    },
    {
     "name": "stdout",
     "output_type": "stream",
     "text": [
      "숫자를 입력하라\n"
     ]
    },
    {
     "name": "stdin",
     "output_type": "stream",
     "text": [
      "숫자 입력 rrr\n"
     ]
    },
    {
     "name": "stdout",
     "output_type": "stream",
     "text": [
      "숫자를 입력하라\n"
     ]
    },
    {
     "name": "stdin",
     "output_type": "stream",
     "text": [
      "숫자 입력 4\n"
     ]
    },
    {
     "name": "stdout",
     "output_type": "stream",
     "text": [
      "4\n",
      "4\n",
      "4\n",
      "4\n"
     ]
    }
   ],
   "source": [
    "num = 'q'\n",
    "while not num.isdigit():\n",
    "    num = input('숫자 입력')\n",
    "    if not num.isdigit():\n",
    "        print(\"숫자를 입력하라\")\n",
    "        continue\n",
    "i = 0\n",
    "num = int(num)\n",
    "while i < num:\n",
    "    i += 1\n",
    "    print('{}'.format(num))"
   ]
  },
  {
   "cell_type": "code",
   "execution_count": 18,
   "id": "2f4916ad-72b3-4eb0-8116-f21032729dff",
   "metadata": {},
   "outputs": [
    {
     "name": "stdin",
     "output_type": "stream",
     "text": [
      "숫자를 입력하세요 rr\n"
     ]
    },
    {
     "name": "stdout",
     "output_type": "stream",
     "text": [
      "숫자가 아닙니다\n"
     ]
    },
    {
     "name": "stdin",
     "output_type": "stream",
     "text": [
      "숫자를 입력하세요 4\n"
     ]
    },
    {
     "name": "stdout",
     "output_type": "stream",
     "text": [
      "4\n",
      "4\n",
      "4\n",
      "4\n"
     ]
    }
   ],
   "source": [
    "while True:\n",
    "    try:\n",
    "        num = int(input(\"숫자를 입력하세요\"))\n",
    "    except ValueError:\n",
    "        print(\"숫자가 아닙니다\")\n",
    "        continue\n",
    "    break\n",
    "i = 0\n",
    "while i < num:\n",
    "    i += 1\n",
    "    print(num)"
   ]
  },
  {
   "cell_type": "code",
   "execution_count": 19,
   "id": "d70b4c08-4be5-4da2-bffa-7c3534d906a6",
   "metadata": {},
   "outputs": [
    {
     "name": "stdin",
     "output_type": "stream",
     "text": [
      "숫자를 입력하세요 4\n"
     ]
    },
    {
     "name": "stdout",
     "output_type": "stream",
     "text": [
      "4\n",
      "4\n",
      "4\n",
      "4\n"
     ]
    }
   ],
   "source": [
    "def printer(num):\n",
    "    i = 0\n",
    "    while i < num:\n",
    "        i += 1\n",
    "        print(num)\n",
    "def validate_num():\n",
    "    while True:\n",
    "        try:\n",
    "            num = int(input(\"숫자를 입력하세요\"))\n",
    "        except ValueError:\n",
    "            print(\"숫자가 아닙니다\")\n",
    "            continue\n",
    "        break\n",
    "    return num\n",
    "\n",
    "printer(validate_num())"
   ]
  },
  {
   "cell_type": "code",
   "execution_count": 20,
   "id": "f9647cfd-6bb3-46a7-badc-49334170e800",
   "metadata": {},
   "outputs": [
    {
     "data": {
      "text/plain": [
       "2"
      ]
     },
     "execution_count": 20,
     "metadata": {},
     "output_type": "execute_result"
    }
   ],
   "source": [
    "b = [1,2,3]\n",
    "b[1]"
   ]
  },
  {
   "cell_type": "code",
   "execution_count": 27,
   "id": "05a74ac2-969d-49d6-9871-6cd11baed1ab",
   "metadata": {},
   "outputs": [
    {
     "name": "stdout",
     "output_type": "stream",
     "text": [
      "Counter({1: 3, 3: 2, 4: 1, 5: 1})\n"
     ]
    }
   ],
   "source": [
    "from collections import Counter\n",
    "b = [1,1,1,3,3,4,5]\n",
    "b.count(3)\n",
    "bc = Counter(b)\n",
    "print(bc)"
   ]
  },
  {
   "cell_type": "code",
   "execution_count": 31,
   "id": "b4a74f12-bf2c-444c-8b49-6c2af29abe86",
   "metadata": {},
   "outputs": [
    {
     "name": "stdout",
     "output_type": "stream",
     "text": [
      "alpha\n",
      "bravo\n",
      "delta\n",
      "hotel\n",
      "india\n",
      "------\n",
      "alpha\n",
      "bravo\n",
      "delta\n",
      "hotel\n",
      "india\n"
     ]
    }
   ],
   "source": [
    "a = ['alpha','bravo','charlie','delta','echo','foxtrot','golf','hotel','india']\n",
    "# 풀이 1\n",
    "for word in a:\n",
    "    if len(word) == 5:\n",
    "        print(word)\n",
    "        \n",
    "# 구분선\n",
    "print(\"-\"*6)\n",
    "\n",
    "# 풀이 2 list comprehension\n",
    "word_5 = [word for word in a if len(word) == 5]\n",
    "for word in word_5:\n",
    "    print(word)"
   ]
  },
  {
   "cell_type": "code",
   "execution_count": 40,
   "id": "ac50aeb0-a037-451b-ae0e-bdbd101fc89f",
   "metadata": {},
   "outputs": [
    {
     "name": "stdout",
     "output_type": "stream",
     "text": [
      "<class 'dict_items'>\n",
      "('age', 36)\n",
      "<class 'dict_keys'>\n",
      "['name', 'age', 'country']\n"
     ]
    }
   ],
   "source": [
    "thisdict = {\"name\":\"John\",\"age\":36,\"country\":\"Norway\"}\n",
    "\n",
    "items = thisdict.items();\n",
    "print(type(items))\n",
    "\n",
    "print(list(items)[1])\n",
    "key_1 = thisdict.keys()\n",
    "print(type(key_1))\n",
    "print(list(key_1))"
   ]
  },
  {
   "cell_type": "code",
   "execution_count": 42,
   "id": "35878d50-cec1-42d6-aaa7-f96882fc53a7",
   "metadata": {},
   "outputs": [
    {
     "name": "stdout",
     "output_type": "stream",
     "text": [
      "85.0\n"
     ]
    }
   ],
   "source": [
    "scores = {\"철수\":90,\"민수\":85,\"영희\":80}\n",
    "sc = list(scores.values())\n",
    "print(sum(sc)/3)"
   ]
  },
  {
   "cell_type": "code",
   "execution_count": null,
   "id": "8425824d-875b-4676-8fea-937c860a9e79",
   "metadata": {},
   "outputs": [],
   "source": []
  }
 ],
 "metadata": {
  "kernelspec": {
   "display_name": "Python 3 (ipykernel)",
   "language": "python",
   "name": "python3"
  },
  "language_info": {
   "codemirror_mode": {
    "name": "ipython",
    "version": 3
   },
   "file_extension": ".py",
   "mimetype": "text/x-python",
   "name": "python",
   "nbconvert_exporter": "python",
   "pygments_lexer": "ipython3",
   "version": "3.9.13"
  }
 },
 "nbformat": 4,
 "nbformat_minor": 5
}
