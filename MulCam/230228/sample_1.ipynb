{
 "cells": [
  {
   "cell_type": "code",
   "execution_count": 2,
   "id": "70849afd-8da9-4817-83d3-d67bc6e34cc6",
   "metadata": {},
   "outputs": [
    {
     "data": {
      "text/plain": [
       "'hello world'"
      ]
     },
     "execution_count": 2,
     "metadata": {},
     "output_type": "execute_result"
    }
   ],
   "source": [
    "'hello world'"
   ]
  },
  {
   "cell_type": "code",
   "execution_count": 3,
   "id": "756a6cd2-8b38-49d1-af89-9c9525e9b015",
   "metadata": {},
   "outputs": [
    {
     "name": "stdout",
     "output_type": "stream",
     "text": [
      "hello world\n",
      "<class 'str'>\n"
     ]
    }
   ],
   "source": [
    "print('hello world')\n",
    "print(type('hello world'))"
   ]
  },
  {
   "cell_type": "code",
   "execution_count": 9,
   "id": "1da4fd34-c5eb-432f-9e54-51f810974f16",
   "metadata": {},
   "outputs": [
    {
     "name": "stdout",
     "output_type": "stream",
     "text": [
      "23\n"
     ]
    }
   ],
   "source": [
    "print(23)"
   ]
  },
  {
   "cell_type": "code",
   "execution_count": 10,
   "id": "d40de9c4-1826-43af-b401-5b3d3e782743",
   "metadata": {},
   "outputs": [
    {
     "name": "stdout",
     "output_type": "stream",
     "text": [
      "1 3 5 6\n"
     ]
    }
   ],
   "source": [
    "t = (1,3,5,6)\n",
    "a,b,c,d = t\n",
    "print(a,b,c,d)"
   ]
  },
  {
   "cell_type": "code",
   "execution_count": 17,
   "id": "94f5f086-b282-4ecc-94ac-e9602c12cb00",
   "metadata": {},
   "outputs": [
    {
     "name": "stdout",
     "output_type": "stream",
     "text": [
      "시작\n",
      "Hello world\n",
      "hello  marmin\n"
     ]
    }
   ],
   "source": [
    "def func1():\n",
    "    # pass\n",
    "    print('Hello world')\n",
    "    \n",
    "print('시작')\n",
    "\n",
    "def hello(st):\n",
    "    print('hello ',st)\n",
    "\n",
    "if __name__ == '__main__':\n",
    "    func1()\n",
    "    hello('marmin')"
   ]
  },
  {
   "cell_type": "code",
   "execution_count": 15,
   "id": "626eb45e-1626-49b7-a2da-11d5174ad7c4",
   "metadata": {},
   "outputs": [
    {
     "name": "stdout",
     "output_type": "stream",
     "text": [
      "4000\n"
     ]
    }
   ],
   "source": [
    "# 지정한 숫자까지 8이 몇개나오는지 세주는 함수\n",
    "def find_8(i):\n",
    "    count = 0\n",
    "    if type(i) == 'str':\n",
    "        i = int(i)\n",
    "    for k in range(0,i+1):\n",
    "        count += str(k).count('8')\n",
    "    return count\n",
    "    \n",
    "print(find_8(10000))"
   ]
  },
  {
   "cell_type": "code",
   "execution_count": 18,
   "id": "d80e6105-7af0-4162-b340-afe0ffc76714",
   "metadata": {},
   "outputs": [
    {
     "name": "stdout",
     "output_type": "stream",
     "text": [
      "3\n"
     ]
    }
   ],
   "source": [
    "print(1+2)"
   ]
  },
  {
   "cell_type": "markdown",
   "id": "10554adc-15f5-47ac-8efb-2bd530ae2c45",
   "metadata": {},
   "source": [
    "### 제목  "
   ]
  },
  {
   "cell_type": "markdown",
   "id": "54bae14e-711a-48e4-9910-9f25fba9a23d",
   "metadata": {},
   "source": [
    "마크다운 랭귀지로 노트도 적을 수 있다는 게 노트북의 기능이죠"
   ]
  },
  {
   "cell_type": "code",
   "execution_count": 19,
   "id": "8c5494e1-76e0-4d9a-be1c-594f696a5aae",
   "metadata": {},
   "outputs": [
    {
     "name": "stdout",
     "output_type": "stream",
     "text": [
      "짝수입니다\n"
     ]
    }
   ],
   "source": [
    "def odd_even(n):\n",
    "    if n % 2 ==0:\n",
    "        print('짝수입니다')\n",
    "    else:\n",
    "        print('홀수입니다')\n",
    "\n",
    "odd_even(6)"
   ]
  },
  {
   "cell_type": "code",
   "execution_count": 20,
   "id": "24b893ca-8b30-4512-89f4-b6b684aeb956",
   "metadata": {},
   "outputs": [
    {
     "data": {
      "text/plain": [
       "2.4"
      ]
     },
     "execution_count": 20,
     "metadata": {},
     "output_type": "execute_result"
    }
   ],
   "source": [
    "abs(2.4)"
   ]
  },
  {
   "cell_type": "code",
   "execution_count": 21,
   "id": "fd576cfb-4584-454c-adb3-aba16a0b6ead",
   "metadata": {},
   "outputs": [
    {
     "data": {
      "text/plain": [
       "27"
      ]
     },
     "execution_count": 21,
     "metadata": {},
     "output_type": "execute_result"
    }
   ],
   "source": [
    "pow(3,3)"
   ]
  },
  {
   "cell_type": "code",
   "execution_count": 23,
   "id": "515187bb-bc45-4e88-a4dd-6007644a7c78",
   "metadata": {},
   "outputs": [
    {
     "data": {
      "text/plain": [
       "2.4"
      ]
     },
     "execution_count": 23,
     "metadata": {},
     "output_type": "execute_result"
    }
   ],
   "source": [
    "abs(2.4)"
   ]
  },
  {
   "cell_type": "code",
   "execution_count": 26,
   "id": "2c569756-0013-4948-bbce-761a39432b23",
   "metadata": {},
   "outputs": [
    {
     "data": {
      "text/plain": [
       "'/Users/marmin/pythonPrac/MulCam/230228'"
      ]
     },
     "execution_count": 26,
     "metadata": {},
     "output_type": "execute_result"
    }
   ],
   "source": [
    "pwd()"
   ]
  },
  {
   "cell_type": "code",
   "execution_count": 27,
   "id": "2256d02e-b1ae-49a7-959c-3693d215f521",
   "metadata": {},
   "outputs": [
    {
     "name": "stdin",
     "output_type": "stream",
     "text": [
      "숫자를 입력해주세요 4\n",
      "숫자를 입력해주세요 4\n"
     ]
    },
    {
     "name": "stdout",
     "output_type": "stream",
     "text": [
      "256\n"
     ]
    }
   ],
   "source": [
    "def mypow(a,b):\n",
    "    return a ** b\n",
    "a = int(input('숫자를 입력해주세요'))\n",
    "b = int(input('숫자를 입력해주세요'))\n",
    "print(mypow(a,b))"
   ]
  },
  {
   "cell_type": "markdown",
   "id": "751d8c94-a38c-43bd-9c15-869157ee42d0",
   "metadata": {},
   "source": [
    "*는 현재 이 셀이 실행중이라는 뜻이다\n",
    "아직 프로세스가 진행중이라는 뜻이다"
   ]
  },
  {
   "cell_type": "markdown",
   "id": "497aefe9-9dc5-41ad-84f9-ca4a0e58a059",
   "metadata": {},
   "source": [
    "정수: int 실수 float 문자열 str"
   ]
  },
  {
   "cell_type": "code",
   "execution_count": 33,
   "id": "c242d0bd-ac0c-4379-9399-879f893eb6f4",
   "metadata": {},
   "outputs": [
    {
     "ename": "TypeError",
     "evalue": "not enough arguments for format string",
     "output_type": "error",
     "traceback": [
      "\u001b[0;31m---------------------------------------------------------------------------\u001b[0m",
      "\u001b[0;31mTypeError\u001b[0m                                 Traceback (most recent call last)",
      "\u001b[0;32m/var/folders/m5/dnnrxj1n5g731dc5t2c_55h80000gn/T/ipykernel_27145/254360430.py\u001b[0m in \u001b[0;36m<module>\u001b[0;34m\u001b[0m\n\u001b[1;32m      1\u001b[0m \u001b[0mnum\u001b[0m \u001b[0;34m=\u001b[0m \u001b[0;36m50\u001b[0m\u001b[0;34m\u001b[0m\u001b[0;34m\u001b[0m\u001b[0m\n\u001b[1;32m      2\u001b[0m \u001b[0mss\u001b[0m \u001b[0;34m=\u001b[0m \u001b[0;34m'man'\u001b[0m\u001b[0;34m\u001b[0m\u001b[0;34m\u001b[0m\u001b[0m\n\u001b[0;32m----> 3\u001b[0;31m \u001b[0ms\u001b[0m \u001b[0;34m=\u001b[0m \u001b[0;34m'my age is %d and I am a %s'\u001b[0m \u001b[0;34m%\u001b[0m\u001b[0mnum\u001b[0m\u001b[0;34m%\u001b[0m\u001b[0mss\u001b[0m\u001b[0;34m\u001b[0m\u001b[0;34m\u001b[0m\u001b[0m\n\u001b[0m\u001b[1;32m      4\u001b[0m \u001b[0mprint\u001b[0m\u001b[0;34m(\u001b[0m\u001b[0ms\u001b[0m\u001b[0;34m)\u001b[0m\u001b[0;34m\u001b[0m\u001b[0;34m\u001b[0m\u001b[0m\n",
      "\u001b[0;31mTypeError\u001b[0m: not enough arguments for format string"
     ]
    }
   ],
   "source": [
    "num = 50\n",
    "s = 'my age is %d'%num\n",
    "print(s)"
   ]
  },
  {
   "cell_type": "code",
   "execution_count": 30,
   "id": "0601604b-c326-4b7d-a7cf-a2202baaf5a8",
   "metadata": {},
   "outputs": [
    {
     "name": "stdout",
     "output_type": "stream",
     "text": [
      "this apple's price is 55 dollars\n"
     ]
    }
   ],
   "source": [
    "price = 55\n",
    "s = 'this apple\\'s price is {} dollars'\n",
    "print(s.format(price))"
   ]
  },
  {
   "cell_type": "code",
   "execution_count": 39,
   "id": "aef91524-2992-4bac-89c5-f1d8ff803194",
   "metadata": {},
   "outputs": [
    {
     "name": "stdout",
     "output_type": "stream",
     "text": [
      "hi\n",
      "9\n",
      "hi\n",
      "hi\n"
     ]
    }
   ],
   "source": [
    "s ='hi, world'\n",
    "\n",
    "print(s[:2])\n",
    "print(len(s))\n",
    "print(s[:-7])\n",
    "a = ''\n",
    "for letter in s:\n",
    "    if letter == 'h' or letter == 'i':\n",
    "        a += letter\n",
    "print(a)"
   ]
  },
  {
   "cell_type": "code",
   "execution_count": null,
   "id": "8c464873-0a3f-4018-9e32-8a5717976bc8",
   "metadata": {},
   "outputs": [],
   "source": []
  }
 ],
 "metadata": {
  "kernelspec": {
   "display_name": "Python 3 (ipykernel)",
   "language": "python",
   "name": "python3"
  },
  "language_info": {
   "codemirror_mode": {
    "name": "ipython",
    "version": 3
   },
   "file_extension": ".py",
   "mimetype": "text/x-python",
   "name": "python",
   "nbconvert_exporter": "python",
   "pygments_lexer": "ipython3",
   "version": "3.9.13"
  }
 },
 "nbformat": 4,
 "nbformat_minor": 5
}
