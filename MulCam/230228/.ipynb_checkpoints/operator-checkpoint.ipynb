{
 "cells": [
  {
   "cell_type": "markdown",
   "id": "8d74d038-c12f-4b58-963b-3d481429b85c",
   "metadata": {},
   "source": [
    "# 연산자"
   ]
  },
  {
   "cell_type": "code",
   "execution_count": 1,
   "id": "b2cacf37-2e82-46f1-a65d-8fc00a0b864a",
   "metadata": {},
   "outputs": [
    {
     "name": "stdout",
     "output_type": "stream",
     "text": [
      "8 1.6666666666666667 243 0\n"
     ]
    }
   ],
   "source": [
    "i = 3\n",
    "j = 5\n",
    "\n",
    "sum1 = i + j\n",
    "divide = j/i\n",
    "pow1 = i ** j\n",
    "moks = i // j\n",
    "print(sum1, divide, pow1, moks)"
   ]
  },
  {
   "cell_type": "code",
   "execution_count": 7,
   "id": "270a915c-219b-4821-b4b5-f55fbac4803d",
   "metadata": {},
   "outputs": [
    {
     "name": "stdin",
     "output_type": "stream",
     "text": [
      "How old are you? r\n"
     ]
    },
    {
     "name": "stdout",
     "output_type": "stream",
     "text": [
      "r is not number\n"
     ]
    },
    {
     "name": "stdin",
     "output_type": "stream",
     "text": [
      "How old are you? 23\n"
     ]
    },
    {
     "name": "stdout",
     "output_type": "stream",
     "text": [
      "I am 23 years old\n"
     ]
    }
   ],
   "source": [
    "age = ''\n",
    "while not age.isnumeric():\n",
    "    age = input(\"How old are you?\")\n",
    "    if not age.isnumeric():\n",
    "        print(f'{age} is not number')\n",
    "        continue\n",
    "print(f'I am {age} years old')"
   ]
  },
  {
   "cell_type": "code",
   "execution_count": 9,
   "id": "20a4fef0-00aa-46f6-85fa-690439565d6c",
   "metadata": {},
   "outputs": [
    {
     "data": {
      "text/plain": [
       "False"
      ]
     },
     "execution_count": 9,
     "metadata": {},
     "output_type": "execute_result"
    }
   ],
   "source": [
    "a = 1\n",
    "b = '1'\n",
    "a is b"
   ]
  },
  {
   "cell_type": "code",
   "execution_count": 10,
   "id": "b13b25a0-eb04-4d01-a051-f35af9d002bc",
   "metadata": {},
   "outputs": [
    {
     "name": "stdout",
     "output_type": "stream",
     "text": [
      "python python\n"
     ]
    }
   ],
   "source": [
    "a = b ='python'\n",
    "print(a,b)"
   ]
  },
  {
   "cell_type": "code",
   "execution_count": 11,
   "id": "c5b1ee9a-17ca-47b4-8780-782263f11056",
   "metadata": {},
   "outputs": [
    {
     "name": "stdout",
     "output_type": "stream",
     "text": [
      "pythonpythonpython\n"
     ]
    }
   ],
   "source": [
    "a = 'python'\n",
    "c = a *3\n",
    "print(c)"
   ]
  },
  {
   "cell_type": "code",
   "execution_count": null,
   "id": "992c095c-0e90-41f2-9561-2a9407a45b3a",
   "metadata": {},
   "outputs": [],
   "source": []
  }
 ],
 "metadata": {
  "kernelspec": {
   "display_name": "Python 3 (ipykernel)",
   "language": "python",
   "name": "python3"
  },
  "language_info": {
   "codemirror_mode": {
    "name": "ipython",
    "version": 3
   },
   "file_extension": ".py",
   "mimetype": "text/x-python",
   "name": "python",
   "nbconvert_exporter": "python",
   "pygments_lexer": "ipython3",
   "version": "3.9.13"
  }
 },
 "nbformat": 4,
 "nbformat_minor": 5
}
