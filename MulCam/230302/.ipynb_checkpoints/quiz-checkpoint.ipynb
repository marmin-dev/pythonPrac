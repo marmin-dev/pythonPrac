{
 "cells": [
  {
   "cell_type": "markdown",
   "id": "55aa6d14-1871-4f90-92e9-8d23aad71678",
   "metadata": {},
   "source": [
    "## for문에 대해 알아보자\n",
    "for 문은 for 변수 in range(시작 값, 끝값 +1, 증가값)\n",
    "i: 주로 사용되는 카운터 변수이다"
   ]
  },
  {
   "cell_type": "code",
   "execution_count": 1,
   "id": "354108d9-9da5-49c5-880b-d51ab56319ff",
   "metadata": {},
   "outputs": [
    {
     "name": "stdout",
     "output_type": "stream",
     "text": [
      "45\n"
     ]
    }
   ],
   "source": [
    "result =0\n",
    "for i in range(1,10):\n",
    "    result += i\n",
    "print(result)"
   ]
  },
  {
   "cell_type": "code",
   "execution_count": 6,
   "id": "dd69f2d6-71be-43d8-8a98-9a8f29f85707",
   "metadata": {},
   "outputs": [
    {
     "name": "stdout",
     "output_type": "stream",
     "text": [
      "45\n"
     ]
    }
   ],
   "source": [
    "result = 0\n",
    "count = 0\n",
    "while not count==9:\n",
    "    count += 1\n",
    "    result += count\n",
    "print(result)"
   ]
  },
  {
   "cell_type": "code",
   "execution_count": 18,
   "id": "b3e99517-d255-4908-b35d-209d5c3f98f7",
   "metadata": {},
   "outputs": [
    {
     "name": "stdin",
     "output_type": "stream",
     "text": [
      "숫자를 입력하시오 rr\n"
     ]
    },
    {
     "name": "stdout",
     "output_type": "stream",
     "text": [
      "rr 은 숫자가 아닙니다\n"
     ]
    },
    {
     "name": "stdin",
     "output_type": "stream",
     "text": [
      "숫자를 입력하시오 4\n"
     ]
    },
    {
     "name": "stdout",
     "output_type": "stream",
     "text": [
      "4 is even number(짝수)\n"
     ]
    }
   ],
   "source": [
    "# 어떤 숫자를 입력받으면 짝수인지 홀수인지 확인하는 함수\n",
    "def odd_even(n):\n",
    "    if n % 2 == 0:\n",
    "        print(f'{n} is even number(짝수)')\n",
    "    else:\n",
    "        print(f'{n} is odd number(홀수)')\n",
    "num = 'q'\n",
    "while not num.isdigit():\n",
    "    num = input(\"숫자를 입력하시오\")\n",
    "    if not num.isdigit():\n",
    "        print(f\"{num} 은 숫자가 아닙니다\")\n",
    "        continue\n",
    "odd_even(int(num))\n"
   ]
  },
  {
   "cell_type": "code",
   "execution_count": 19,
   "id": "1e45a21f-c49d-487d-b62f-8ded6e0c9a28",
   "metadata": {},
   "outputs": [
    {
     "name": "stdout",
     "output_type": "stream",
     "text": [
      "apple\n",
      "banna\n",
      "cherry\n"
     ]
    }
   ],
   "source": [
    "fruits = ['apple','banna','cherry']\n",
    "for x in fruits:\n",
    "    print(x)"
   ]
  },
  {
   "cell_type": "code",
   "execution_count": 21,
   "id": "063bdfe2-f661-4391-b75e-56eb679e4018",
   "metadata": {},
   "outputs": [
    {
     "name": "stdout",
     "output_type": "stream",
     "text": [
      "*\n",
      "**\n",
      "***\n",
      "****\n",
      "*****\n",
      "******\n",
      "*******\n",
      "********\n"
     ]
    }
   ],
   "source": [
    "a = 8\n",
    "for i in range(a):\n",
    "    print('*'*(i+1))"
   ]
  },
  {
   "cell_type": "code",
   "execution_count": 22,
   "id": "18ee651d-25d1-4521-978a-0408ca1c1db3",
   "metadata": {},
   "outputs": [
    {
     "name": "stdin",
     "output_type": "stream",
     "text": [
      "트리의 높이를 입력하세요:  4\n"
     ]
    },
    {
     "name": "stdout",
     "output_type": "stream",
     "text": [
      "   *\n",
      "  ***\n",
      " *****\n",
      "*******\n"
     ]
    }
   ],
   "source": [
    "height = int(input(\"트리의 높이를 입력하세요: \"))\n",
    "\n",
    "\n",
    "for i in range(height):\n",
    "\n",
    "    for j in range(height - i - 1):\n",
    "        print(\" \", end=\"\")\n",
    "    \n",
    "\n",
    "    for k in range(2*i + 1):\n",
    "        print(\"*\", end=\"\")\n",
    "    \n",
    "\n",
    "    print()"
   ]
  },
  {
   "cell_type": "code",
   "execution_count": 31,
   "id": "256792ca-c67a-4a11-801c-f4cf5462f046",
   "metadata": {},
   "outputs": [
    {
     "name": "stdin",
     "output_type": "stream",
     "text": [
      "역삼각형 높이를 입력하세요:  4\n"
     ]
    },
    {
     "name": "stdout",
     "output_type": "stream",
     "text": [
      "*******\n",
      " *****\n",
      "  ***\n",
      "   *\n"
     ]
    }
   ],
   "source": [
    "height = int(input(\"역삼각형 높이를 입력하세요: \"))\n",
    "for i in range(height):\n",
    "    for k in range(i):\n",
    "        print(\" \",end=\"\")\n",
    "    for j in range(2*(height - i)-1):\n",
    "        print(\"*\",end=\"\")\n",
    "    \n",
    "    print()"
   ]
  },
  {
   "cell_type": "code",
   "execution_count": 55,
   "id": "2664f899-354e-4bff-b7fb-0be5686d3c11",
   "metadata": {},
   "outputs": [
    {
     "name": "stdout",
     "output_type": "stream",
     "text": [
      "1 X 1 = 1 1 X 2 = 2 1 X 3 =3\n",
      "1 X 4 = 4 1 X 5 = 5 1 X 6 =6\n",
      "1 X 7 = 7 1 X 8 = 8 1 X 9 =9\n",
      "\n",
      "2 X 1 = 2 2 X 2 = 4 2 X 3 =6\n",
      "2 X 4 = 8 2 X 5 = 10 2 X 6 =12\n",
      "2 X 7 = 14 2 X 8 = 16 2 X 9 =18\n",
      "\n",
      "3 X 1 = 3 3 X 2 = 6 3 X 3 =9\n",
      "3 X 4 = 12 3 X 5 = 15 3 X 6 =18\n",
      "3 X 7 = 21 3 X 8 = 24 3 X 9 =27\n",
      "\n",
      "4 X 1 = 4 4 X 2 = 8 4 X 3 =12\n",
      "4 X 4 = 16 4 X 5 = 20 4 X 6 =24\n",
      "4 X 7 = 28 4 X 8 = 32 4 X 9 =36\n",
      "\n",
      "5 X 1 = 5 5 X 2 = 10 5 X 3 =15\n",
      "5 X 4 = 20 5 X 5 = 25 5 X 6 =30\n",
      "5 X 7 = 35 5 X 8 = 40 5 X 9 =45\n",
      "\n",
      "6 X 1 = 6 6 X 2 = 12 6 X 3 =18\n",
      "6 X 4 = 24 6 X 5 = 30 6 X 6 =36\n",
      "6 X 7 = 42 6 X 8 = 48 6 X 9 =54\n",
      "\n",
      "7 X 1 = 7 7 X 2 = 14 7 X 3 =21\n",
      "7 X 4 = 28 7 X 5 = 35 7 X 6 =42\n",
      "7 X 7 = 49 7 X 8 = 56 7 X 9 =63\n",
      "\n",
      "8 X 1 = 8 8 X 2 = 16 8 X 3 =24\n",
      "8 X 4 = 32 8 X 5 = 40 8 X 6 =48\n",
      "8 X 7 = 56 8 X 8 = 64 8 X 9 =72\n",
      "\n",
      "9 X 1 = 9 9 X 2 = 18 9 X 3 =27\n",
      "9 X 4 = 36 9 X 5 = 45 9 X 6 =54\n",
      "9 X 7 = 63 9 X 8 = 72 9 X 9 =81\n",
      "\n"
     ]
    }
   ],
   "source": [
    "for i in range(1,10):\n",
    "\n",
    "    for j in range(1,10):\n",
    "        if j%3 == 0:\n",
    "            print(f'{i} X {j} ={i*j}')\n",
    "        else:\n",
    "            print(f'{i} X {j} =',i*j, end=\" \")\n",
    "    print()"
   ]
  },
  {
   "cell_type": "code",
   "execution_count": null,
   "id": "bf49d211-6fa5-4cbe-9ab4-7e11338a47ca",
   "metadata": {},
   "outputs": [],
   "source": []
  },
  {
   "cell_type": "code",
   "execution_count": 74,
   "id": "caa64c05-051a-413e-b3d5-ab35fa17aeeb",
   "metadata": {},
   "outputs": [
    {
     "name": "stdout",
     "output_type": "stream",
     "text": [
      "1번 학생은 90점으로 합격입니다\n",
      "2번 학생은 60점 미만으로 불합격입니다\n",
      "3번 학생은 67점으로 합격입니다\n",
      "4번 학생은 60점 미만으로 불합격입니다\n",
      "5번 학생은 80점으로 합격입니다\n",
      "------\n",
      "1번 학생 합격\n",
      "2번 학생 불합격\n",
      "3번 학생 합격\n",
      "4번 학생 불합격\n",
      "5번 학생 합격\n",
      "------\n",
      "1번 학생 합격\n",
      "2번 학생 불합격\n",
      "3번 학생 합격\n",
      "4번 학생 불합격\n",
      "5번 학생 합격\n"
     ]
    }
   ],
   "source": [
    "# 수학 점수가 있다 리스트 타입, 학생 번호와 합격 불합격 여부 출력\n",
    "marks = [90, 25, 67, 45, 80]\n",
    "\n",
    "# 인덱스 활용\n",
    "for x in range(len(marks)):\n",
    "    if marks[x] > 60:\n",
    "        print(f'{x+1}번 학생은 {marks[x]}점으로 합격입니다')\n",
    "    else:\n",
    "        print(f'{x+1}번 학생은 60점 미만으로 불합격입니다')\n",
    "\n",
    "print('------')\n",
    "\n",
    "# count 변수 활용\n",
    "count = 1\n",
    "for x in marks:\n",
    "    if x > 60:\n",
    "        print(f'{count}번 학생 합격')\n",
    "    else:\n",
    "        print(f'{count}번 학생 불합격')\n",
    "    count += 1\n",
    "\n",
    "print('------')\n",
    "\n",
    "# List Comprehension, count 변수 활용(시간 복잡도 상 가장 느림)\n",
    "count = 1\n",
    "success = [marks[x] for x in range(len(marks)) if marks[x]>60]\n",
    "for x in marks:\n",
    "    if x in success:\n",
    "        print('{}번 학생 합격'.format(count))\n",
    "    else:\n",
    "        print('{}번 학생 불합격'.format(count))\n",
    "    count += 1"
   ]
  },
  {
   "cell_type": "code",
   "execution_count": null,
   "id": "9d714940-b215-43f4-8ad5-73f3e7f36caf",
   "metadata": {},
   "outputs": [],
   "source": []
  }
 ],
 "metadata": {
  "kernelspec": {
   "display_name": "Python 3 (ipykernel)",
   "language": "python",
   "name": "python3"
  },
  "language_info": {
   "codemirror_mode": {
    "name": "ipython",
    "version": 3
   },
   "file_extension": ".py",
   "mimetype": "text/x-python",
   "name": "python",
   "nbconvert_exporter": "python",
   "pygments_lexer": "ipython3",
   "version": "3.9.13"
  }
 },
 "nbformat": 4,
 "nbformat_minor": 5
}
