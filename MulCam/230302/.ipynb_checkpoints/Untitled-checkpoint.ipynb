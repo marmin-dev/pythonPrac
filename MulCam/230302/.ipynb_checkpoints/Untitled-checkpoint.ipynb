{
 "cells": [
  {
   "cell_type": "markdown",
   "id": "55aa6d14-1871-4f90-92e9-8d23aad71678",
   "metadata": {},
   "source": [
    "## for문에 대해 알아보자\n",
    "for 문은 for 변수 in range(시작 값, 끝값 +1, 증가값)\n",
    "i: 주로 사용되는 카운터 변수이다"
   ]
  },
  {
   "cell_type": "code",
   "execution_count": 1,
   "id": "354108d9-9da5-49c5-880b-d51ab56319ff",
   "metadata": {},
   "outputs": [
    {
     "name": "stdout",
     "output_type": "stream",
     "text": [
      "45\n"
     ]
    }
   ],
   "source": [
    "result =0\n",
    "for i in range(1,10):\n",
    "    result += i\n",
    "print(result)"
   ]
  },
  {
   "cell_type": "code",
   "execution_count": 6,
   "id": "dd69f2d6-71be-43d8-8a98-9a8f29f85707",
   "metadata": {},
   "outputs": [
    {
     "name": "stdout",
     "output_type": "stream",
     "text": [
      "45\n"
     ]
    }
   ],
   "source": [
    "result = 0\n",
    "count = 0\n",
    "while not count==9:\n",
    "    count += 1\n",
    "    result += count\n",
    "print(result)"
   ]
  },
  {
   "cell_type": "code",
   "execution_count": null,
   "id": "b3e99517-d255-4908-b35d-209d5c3f98f7",
   "metadata": {},
   "outputs": [],
   "source": []
  }
 ],
 "metadata": {
  "kernelspec": {
   "display_name": "Python 3 (ipykernel)",
   "language": "python",
   "name": "python3"
  },
  "language_info": {
   "codemirror_mode": {
    "name": "ipython",
    "version": 3
   },
   "file_extension": ".py",
   "mimetype": "text/x-python",
   "name": "python",
   "nbconvert_exporter": "python",
   "pygments_lexer": "ipython3",
   "version": "3.9.13"
  }
 },
 "nbformat": 4,
 "nbformat_minor": 5
}
