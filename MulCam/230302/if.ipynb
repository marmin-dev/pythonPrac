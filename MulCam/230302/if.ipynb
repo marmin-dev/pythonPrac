{
 "cells": [
  {
   "cell_type": "code",
   "execution_count": 3,
   "id": "5855458a-a38b-4fb2-8cff-091258445ed7",
   "metadata": {},
   "outputs": [
    {
     "name": "stdin",
     "output_type": "stream",
     "text": [
      "가진 돈을 입력하시오 700\n"
     ]
    },
    {
     "name": "stdout",
     "output_type": "stream",
     "text": [
      "걸어간다\n"
     ]
    }
   ],
   "source": [
    "# 어떻게 학원으로 갈까?\n",
    "money = int(input(\"가진 돈을 입력하시오\"))\n",
    "if money >= 2000:\n",
    "    print(\"시내버스를 탄다\")\n",
    "elif money >= 1000:\n",
    "    print(\"마을 버스를 탄다\")\n",
    "else:\n",
    "    print(\"걸어간다\")"
   ]
  },
  {
   "cell_type": "code",
   "execution_count": null,
   "id": "26e0b77f-48ae-4a19-991e-45e28e28719f",
   "metadata": {},
   "outputs": [],
   "source": []
  }
 ],
 "metadata": {
  "kernelspec": {
   "display_name": "Python 3 (ipykernel)",
   "language": "python",
   "name": "python3"
  },
  "language_info": {
   "codemirror_mode": {
    "name": "ipython",
    "version": 3
   },
   "file_extension": ".py",
   "mimetype": "text/x-python",
   "name": "python",
   "nbconvert_exporter": "python",
   "pygments_lexer": "ipython3",
   "version": "3.9.13"
  }
 },
 "nbformat": 4,
 "nbformat_minor": 5
}
